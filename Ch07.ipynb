{
 "cells": [
  {
   "cell_type": "code",
   "execution_count": 5,
   "metadata": {
    "collapsed": false
   },
   "outputs": [
    {
     "data": {
      "text/plain": [
       "\u001b[36ma\u001b[0m: \u001b[32mInt\u001b[0m = \u001b[32m1\u001b[0m\n",
       "\u001b[36mfilename\u001b[0m: \u001b[32mString\u001b[0m = \u001b[32m\"oops\"\u001b[0m\n",
       "\u001b[36msum\u001b[0m: \u001b[32mInt\u001b[0m = \u001b[32m55\u001b[0m\n",
       "\u001b[36mb\u001b[0m: \u001b[32mInt\u001b[0m = \u001b[32m11\u001b[0m\n",
       "\u001b[36mres2_5\u001b[0m: \u001b[32mInt\u001b[0m = \u001b[32m55\u001b[0m"
      ]
     },
     "metadata": {},
     "output_type": "display_data"
    }
   ],
   "source": [
    "//  Scala's control structures result in some value. \n",
    "\n",
    "// if\n",
    "val a =1\n",
    "val filename =\n",
    "      if (a==1) \"oops\"\n",
    "      else \"default.txt\"\n",
    "// while\n",
    "var sum=0\n",
    "var b=1\n",
    "while(b<=10){\n",
    "    sum+=b\n",
    "    b+=1    \n",
    "}\n",
    "sum\n",
    "\n",
    "// do-while"
   ]
  },
  {
   "cell_type": "code",
   "execution_count": 66,
   "metadata": {
    "collapsed": false
   },
   "outputs": [
    {
     "name": "stdout",
     "output_type": "stream",
     "text": [
      "hi\n"
     ]
    },
    {
     "data": {
      "text/plain": [
       "defined \u001b[32mfunction \u001b[36mgreet\u001b[0m\n",
       "\u001b[36mres44_1\u001b[0m: \u001b[32mBoolean\u001b[0m = true\n",
       "\u001b[36mline\u001b[0m: \u001b[32mString\u001b[0m = null\n",
       "\u001b[36mres44_3\u001b[0m: \u001b[32mBoolean\u001b[0m = false\n",
       "defined \u001b[32mfunction \u001b[36mgcd\u001b[0m\n",
       "\u001b[36mres44_5\u001b[0m: \u001b[32mInt\u001b[0m = \u001b[32m2\u001b[0m\n",
       "\u001b[36mres44_6\u001b[0m: \u001b[32mInt\u001b[0m = \u001b[32m2\u001b[0m\n",
       "\u001b[36mres44_7\u001b[0m: \u001b[32mInt\u001b[0m = \u001b[32m2\u001b[0m"
      ]
     },
     "metadata": {},
     "output_type": "display_data"
    }
   ],
   "source": [
    "// Unit\n",
    "\n",
    "def greet() {println(\"hi\")}\n",
    "greet() == ()\n",
    "\n",
    "val line = readLine()\n",
    "//line == ()\n",
    "//line.=(readLIne())\n",
    "\n",
    "// wrong\n",
    "// var line=\"\"\n",
    "// while(( line = readLine()) != \"\")\n",
    "//     println(\"Read:\" + line)\n",
    "\n",
    "def gcd(a : Int, b:Int):Int = {\n",
    "    if(a==0)b\n",
    "    else gcd(b%a, a)\n",
    "}\n",
    "gcd(2,4)\n",
    "gcd(4,2)\n",
    "gcd(2,2)"
   ]
  },
  {
   "cell_type": "code",
   "execution_count": 14,
   "metadata": {
    "collapsed": false
   },
   "outputs": [
    {
     "name": "stdout",
     "output_type": "stream",
     "text": [
      "./Ch06.ipynb\n",
      "./Ch02.ipynb\n",
      "./Ch05.ipynb\n",
      "./Ch04.ipynb\n",
      "./.ipynb_checkpoints\n",
      "./Ch07.ipynb\n",
      "./Ch03.ipynb\n",
      "iter 1\n",
      "iter 2\n",
      "iter 3\n",
      "iter 4\n",
      "iter2 1\n",
      "iter2 2\n",
      "iter2 3\n",
      "filtered 5\n",
      "filtered 10\n",
      "filtered 15\n",
      "filtered 20\n",
      "filtered2 10\n",
      "filtered2 20\n"
     ]
    },
    {
     "data": {
      "text/plain": [
       "\u001b[36mfiles\u001b[0m: \u001b[32mArray\u001b[0m[\u001b[32mjava\u001b[0m.\u001b[32mio\u001b[0m.\u001b[32mFile\u001b[0m] = \u001b[33mArray\u001b[0m(\n",
       "  ./Ch06.ipynb,\n",
       "  ./Ch02.ipynb,\n",
       "  ./Ch05.ipynb,\n",
       "  ./Ch04.ipynb,\n",
       "  ./.ipynb_checkpoints,\n",
       "  ./Ch07.ipynb,\n",
       "  ./Ch03.ipynb\n",
       ")"
      ]
     },
     "metadata": {},
     "output_type": "display_data"
    }
   ],
   "source": [
    "///////////////////////////////////////\n",
    "// for \n",
    "val files = (new java.io.File(\".\")).listFiles\n",
    "for(file<-files)\n",
    "    println(file)\n",
    "\n",
    "\n",
    "for (i<- 1 to 4)\n",
    "    println(\"iter \" +i)\n",
    "\n",
    "// until\n",
    "for (i<- 1 until 4)\n",
    "    println(\"iter2 \" +i)\n",
    "\n",
    "// remove +1 -1 index error"
   ]
  },
  {
   "cell_type": "code",
   "execution_count": 16,
   "metadata": {
    "collapsed": false
   },
   "outputs": [
    {
     "name": "stdout",
     "output_type": "stream",
     "text": [
      "filtered 5\n",
      "filtered 10\n",
      "filtered 15\n",
      "filtered 20\n",
      "filtered2 10\n",
      "filtered2 20\n",
      "1 10\n",
      "1 11\n",
      "1 12\n",
      "1 13\n",
      "2 10\n",
      "2 11\n",
      "2 12\n",
      "2 13\n",
      "3 10\n",
      "3 11\n",
      "3 12\n",
      "3 13\n"
     ]
    },
    {
     "data": {
      "text/plain": []
     },
     "metadata": {},
     "output_type": "display_data"
    }
   ],
   "source": [
    "///////////////////////////////////////\n",
    "// Filtering\n",
    "for (i <- 1 to 20 if i%5==0)\n",
    "    println(\"filtered \" + i)\n",
    "\n",
    "for (i <- 1 to 20 if i%5==0; if i%10==0)\n",
    "    println(\"filtered2 \" + i)\n",
    "\n",
    "// nested iteration\n",
    "for ( i <- 1 to 3;\n",
    "        j <- 10 to 13\n",
    "    )\n",
    "    println(i + \" \" + j)"
   ]
  },
  {
   "cell_type": "code",
   "execution_count": 74,
   "metadata": {
    "collapsed": false
   },
   "outputs": [
    {
     "name": "stdout",
     "output_type": "stream",
     "text": [
      "2\n",
      "4\n",
      "6\n",
      "8\n",
      "10\n"
     ]
    },
    {
     "data": {
      "text/plain": [
       "\u001b[36meven\u001b[0m: \u001b[32mcollection\u001b[0m.\u001b[32mimmutable\u001b[0m.\u001b[32mIndexedSeq\u001b[0m[\u001b[32mInt\u001b[0m] = \u001b[33mVector\u001b[0m(\u001b[32m2\u001b[0m, \u001b[32m4\u001b[0m, \u001b[32m6\u001b[0m, \u001b[32m8\u001b[0m, \u001b[32m10\u001b[0m)\n",
       "\u001b[36meven2\u001b[0m: \u001b[32mcollection\u001b[0m.\u001b[32mimmutable\u001b[0m.\u001b[32mIndexedSeq\u001b[0m[\u001b[32mInt\u001b[0m] = \u001b[33mVector\u001b[0m(\u001b[32m2\u001b[0m, \u001b[32m4\u001b[0m, \u001b[32m6\u001b[0m, \u001b[32m8\u001b[0m, \u001b[32m10\u001b[0m)"
      ]
     },
     "metadata": {},
     "output_type": "display_data"
    }
   ],
   "source": [
    "// producing a new collection\n",
    "val even = for( k <- 1 to 10 if k%2==0) \n",
    "    yield k\n",
    "//println(k)\n",
    "\n",
    "// for clauses yield body\n",
    "\n",
    "// compile error\n",
    "val even2 = for( i <- 1 to 10 if i%2==0) \n",
    "    yield {\n",
    "        println(i)\n",
    "        i\n",
    "          }\n"
   ]
  },
  {
   "cell_type": "code",
   "execution_count": 30,
   "metadata": {
    "collapsed": false
   },
   "outputs": [
    {
     "name": "stdout",
     "output_type": "stream",
     "text": [
      "not found\n"
     ]
    },
    {
     "data": {
      "text/plain": [
       "\u001b[36mn\u001b[0m: \u001b[32mInt\u001b[0m = \u001b[32m2\u001b[0m\n",
       "\u001b[36mhalf\u001b[0m: \u001b[32mInt\u001b[0m = \u001b[32m1\u001b[0m\n",
       "\u001b[32mimport \u001b[36mjava.io.FileReader\u001b[0m\n",
       "\u001b[32mimport \u001b[36mjava.io.FileNotFoundException\u001b[0m\n",
       "\u001b[32mimport \u001b[36mjava.io.IOException\u001b[0m"
      ]
     },
     "metadata": {},
     "output_type": "display_data"
    }
   ],
   "source": [
    "// exception\n",
    "// throw new IllegalArgumentException\n",
    "\n",
    "val n=2\n",
    "val half = if (n%2==0) n/2 else throw new RuntimeException(\"n must be even\")\n",
    "\n",
    "import java.io.FileReader\n",
    "    import java.io.FileNotFoundException\n",
    "    import java.io.IOException\n",
    "\n",
    "try{\n",
    "    val f = new FileReader(\"dddd\")\n",
    "}catch{\n",
    "    case ex : FileNotFoundException => println(\"not found\")\n",
    "    case ex : IOException => println(\"io exception\")\n",
    "}"
   ]
  },
  {
   "cell_type": "code",
   "execution_count": 38,
   "metadata": {
    "collapsed": false
   },
   "outputs": [
    {
     "data": {
      "text/plain": [
       "\u001b[32mimport \u001b[36mjava.net.URL\u001b[0m\n",
       "\u001b[32mimport \u001b[36mjava.net.MalformedURLException\u001b[0m\n",
       "defined \u001b[32mfunction \u001b[36murlFor\u001b[0m\n",
       "\u001b[36mres30_3\u001b[0m: \u001b[32mURL\u001b[0m = http://naver.com\n",
       "\u001b[36mres30_4\u001b[0m: \u001b[32mURL\u001b[0m = http://scala.com\n",
       "defined \u001b[32mfunction \u001b[36mf\u001b[0m\n",
       "defined \u001b[32mfunction \u001b[36mg\u001b[0m\n",
       "\u001b[36mres30_7\u001b[0m: \u001b[32mInt\u001b[0m = \u001b[32m2\u001b[0m\n",
       "\u001b[36mres30_8\u001b[0m: \u001b[32mInt\u001b[0m = \u001b[32m1\u001b[0m"
      ]
     },
     "metadata": {},
     "output_type": "display_data"
    }
   ],
   "source": [
    "// Yielding a value\n",
    "\n",
    "import java.net.URL\n",
    "    import java.net.MalformedURLException\n",
    "\n",
    "def urlFor(path:String) = \n",
    "    try{\n",
    "        new URL(path)\n",
    "    }catch{\n",
    "        case e: MalformedURLException => new URL(\"http://scala.com\")\n",
    "    }\n",
    "\n",
    "urlFor(\"http://naver.com\")\n",
    "urlFor(\"dfhakl:hldfhal\")\n",
    "\n",
    "//  do not try to return value in finally block\n",
    "def f():Int = try{return 1} finally {return 2}\n",
    "def g = try{1} finally{2}\n",
    "\n",
    "f\n",
    "g"
   ]
  },
  {
   "cell_type": "code",
   "execution_count": 42,
   "metadata": {
    "collapsed": false
   },
   "outputs": [
    {
     "name": "stdout",
     "output_type": "stream",
     "text": [
      "pepper\n",
      "pepper\n"
     ]
    },
    {
     "data": {
      "text/plain": []
     },
     "metadata": {},
     "output_type": "display_data"
    }
   ],
   "source": [
    "// Match expressions\n",
    "\"salt\" match {\n",
    "    case \"salt\" => println(\"pepper\")\n",
    "    case \"chips\" => println(\"salsa\")\n",
    "    case _ => println(\"huh?\")\n",
    "}\n",
    "\n",
    "// no break => shorter, remove source of error\n",
    "\n",
    "// match expressions result in a value\n",
    "val friend = \"salt\" match {\n",
    "    case \"salt\" => println(\"pepper\")\n",
    "    case \"chips\" => println(\"salsa\")\n",
    "    case _ => println(\"huh?\")\n",
    "}\n"
   ]
  },
  {
   "cell_type": "code",
   "execution_count": 51,
   "metadata": {
    "collapsed": false
   },
   "outputs": [
    {
     "data": {
      "text/plain": [
       "\u001b[36margs\u001b[0m: \u001b[32mArray\u001b[0m[\u001b[32mInt\u001b[0m] = \u001b[33mArray\u001b[0m(\u001b[32m3\u001b[0m, \u001b[32m4\u001b[0m, \u001b[32m5\u001b[0m, \u001b[32m6\u001b[0m)\n",
       "\u001b[36mres38_1\u001b[0m: \u001b[32mInt\u001b[0m = \u001b[32m3\u001b[0m\n",
       "defined \u001b[32mfunction \u001b[36msearchFrom\u001b[0m\n",
       "\u001b[36mi\u001b[0m: \u001b[32mInt\u001b[0m = \u001b[32m1\u001b[0m"
      ]
     },
     "metadata": {},
     "output_type": "display_data"
    }
   ],
   "source": [
    "// Living without break and continue\n",
    "val args = Array(3,4,5,6)\n",
    "args(0)\n",
    "def searchFrom(i : Int) : Int = \n",
    "    if (i>=args.length) -1\n",
    "    else if (args(i)%3==0) searchFrom(i+1)\n",
    "    else if (args(i)%2==0) i\n",
    "    else searchFrom(i+1)\n",
    "\n",
    "val i = searchFrom(0)\n"
   ]
  },
  {
   "cell_type": "code",
   "execution_count": 75,
   "metadata": {
    "collapsed": false
   },
   "outputs": [
    {
     "ename": "",
     "evalue": "",
     "output_type": "error",
     "traceback": [
      "Compilation Failed",
      "\u001b[31mMain.scala:251: aa is already defined as value aa",
      " ; val aa = { () =>",
      "       ^\u001b[0m"
     ]
    }
   ],
   "source": [
    "// variable scope\n",
    "// almost identical to Java\n",
    "\n",
    "val aa =1;\n",
    "{\n",
    "    val aa =2 // error\n",
    "    println(aa);    \n",
    "}"
   ]
  },
  {
   "cell_type": "code",
   "execution_count": 62,
   "metadata": {
    "collapsed": false
   },
   "outputs": [
    {
     "name": "stdout",
     "output_type": "stream",
     "text": [
      "1 2 3 4 5 6 7 8 9 10\n",
      "2 4 6 8 10 12 14 16 18 20\n",
      "3 6 9 12 15 18 21 24 27 30\n",
      "4 8 12 16 20 24 28 32 36 40\n",
      "5 10 15 20 25 30 35 40 45 50\n",
      "6 12 18 24 30 36 42 48 54 60\n",
      "7 14 21 28 35 42 49 56 63 70\n",
      "8 16 24 32 40 48 56 64 72 80\n",
      "9 18 27 36 45 54 63 72 81 90\n",
      "10 20 30 40 50 60 70 80 90 100\n"
     ]
    },
    {
     "data": {
      "text/plain": [
       "defined \u001b[32mfunction \u001b[36mmakeRowSeq\u001b[0m\n",
       "defined \u001b[32mfunction \u001b[36mtable\u001b[0m"
      ]
     },
     "metadata": {},
     "output_type": "display_data"
    }
   ],
   "source": [
    "// make row seq\n",
    "def makeRowSeq(row:Int) : Seq[Int] = {\n",
    "    for(i <- 1 to 10)\n",
    "        yield i*row\n",
    "}\n",
    "\n",
    "def table() = {\n",
    "    for (row <- 1 to 10){\n",
    "        val seq = makeRowSeq(row)\n",
    "        println(seq.mkString( \" \"))\n",
    "    }\n",
    "        \n",
    "}\n",
    "\n",
    "table"
   ]
  },
  {
   "cell_type": "code",
   "execution_count": null,
   "metadata": {
    "collapsed": true
   },
   "outputs": [],
   "source": []
  }
 ],
 "metadata": {
  "kernelspec": {
   "display_name": "Scala 2.11",
   "language": "scala211",
   "name": "scala211"
  },
  "language_info": {
   "codemirror_mode": "text/x-scala",
   "file_extension": "scala",
   "mimetype": "text/x-scala",
   "name": "scala211",
   "pygments_lexer": "scala",
   "version": "2.11.6"
  }
 },
 "nbformat": 4,
 "nbformat_minor": 0
}
