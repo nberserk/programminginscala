{
 "cells": [
  {
   "cell_type": "code",
   "execution_count": 5,
   "metadata": {
    "collapsed": false
   },
   "outputs": [
    {
     "data": {
      "text/plain": [
       "\u001b[36ma\u001b[0m: \u001b[32mInt\u001b[0m = \u001b[32m1\u001b[0m\n",
       "\u001b[36mfilename\u001b[0m: \u001b[32mString\u001b[0m = \u001b[32m\"oops\"\u001b[0m\n",
       "\u001b[36msum\u001b[0m: \u001b[32mInt\u001b[0m = \u001b[32m55\u001b[0m\n",
       "\u001b[36mb\u001b[0m: \u001b[32mInt\u001b[0m = \u001b[32m11\u001b[0m\n",
       "\u001b[36mres2_5\u001b[0m: \u001b[32mInt\u001b[0m = \u001b[32m55\u001b[0m"
      ]
     },
     "metadata": {},
     "output_type": "display_data"
    }
   ],
   "source": [
    "//  Scala's control structures result in some value. \n",
    "\n",
    "// if\n",
    "val a =1\n",
    "val filename =\n",
    "      if (a==1) \"oops\"\n",
    "      else \"default.txt\"\n",
    "// while\n",
    "var sum=0\n",
    "var b=1\n",
    "while(b<=10){\n",
    "    sum+=b\n",
    "    b+=1    \n",
    "}\n",
    "sum\n",
    "// do-while"
   ]
  },
  {
   "cell_type": "code",
   "execution_count": null,
   "metadata": {
    "collapsed": true
   },
   "outputs": [],
   "source": []
  }
 ],
 "metadata": {
  "kernelspec": {
   "display_name": "Scala 2.11",
   "language": "scala211",
   "name": "scala211"
  },
  "language_info": {
   "codemirror_mode": "text/x-scala",
   "file_extension": "scala",
   "mimetype": "text/x-scala",
   "name": "scala211",
   "pygments_lexer": "scala",
   "version": "2.11.6"
  }
 },
 "nbformat": 4,
 "nbformat_minor": 0
}
