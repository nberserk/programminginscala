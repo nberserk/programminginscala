{
 "cells": [
  {
   "cell_type": "markdown",
   "metadata": {},
   "source": [
    "## basic types"
   ]
  },
  {
   "cell_type": "code",
   "execution_count": 4,
   "metadata": {
    "collapsed": false
   },
   "outputs": [
    {
     "data": {
      "text/plain": [
       "\u001b[36mi\u001b[0m: \u001b[32mInt\u001b[0m = \u001b[32m1\u001b[0m"
      ]
     },
     "metadata": {},
     "output_type": "display_data"
    }
   ],
   "source": [
    "// Byte, Short, Int, Long, Char, String, Float, Double, Boolen\n",
    "val i : Int = 1\n",
    "//val ii : int = 2 // error"
   ]
  },
  {
   "cell_type": "code",
   "execution_count": 20,
   "metadata": {
    "collapsed": false
   },
   "outputs": [
    {
     "data": {
      "text/plain": [
       "\u001b[36mhex\u001b[0m: \u001b[32mInt\u001b[0m = \u001b[32m5\u001b[0m\n",
       "\u001b[36mhex2\u001b[0m: \u001b[32mInt\u001b[0m = \u001b[32m255\u001b[0m\n",
       "\u001b[36mmagic\u001b[0m: \u001b[32mInt\u001b[0m = \u001b[32m-889275718\u001b[0m\n",
       "\u001b[36mtower\u001b[0m: \u001b[32mLong\u001b[0m = \u001b[32m35\u001b[0mL\n",
       "\u001b[36mof\u001b[0m: \u001b[32mLong\u001b[0m = \u001b[32m31\u001b[0mL\n",
       "\u001b[36md\u001b[0m: \u001b[32mDouble\u001b[0m = \u001b[32m1.2345\u001b[0m\n",
       "\u001b[36md2\u001b[0m: \u001b[32mDouble\u001b[0m = \u001b[32m300000.0\u001b[0m\n",
       "\u001b[36mf\u001b[0m: \u001b[32mFloat\u001b[0m = \u001b[32m1.2345\u001b[0mF"
      ]
     },
     "metadata": {},
     "output_type": "display_data"
    }
   ],
   "source": [
    "// hexa\n",
    "val hex = 0x5\n",
    "val hex2 = 0x00FF\n",
    "val magic = 0xcafebaba\n",
    "\n",
    "// octal\n",
    "// val oct = 035 // deprecated\n",
    "// Long\n",
    "val tower = 35L\n",
    "val of = 31l\n",
    "\n",
    "// Short\n",
    "//val s2 : Short = 33\n",
    "\n",
    "var d = 1.2345\n",
    "var d2 = 3e5\n",
    "var f = 1.2345f"
   ]
  },
  {
   "cell_type": "code",
   "execution_count": 26,
   "metadata": {
    "collapsed": false
   },
   "outputs": [
    {
     "name": "stdout",
     "output_type": "stream",
     "text": [
      "\n",
      "this is long sentences;\n",
      "\n"
     ]
    },
    {
     "data": {
      "text/plain": [
       "\u001b[36mc\u001b[0m: \u001b[32mChar\u001b[0m = \u001b[32m'A'\u001b[0m\n",
       "\u001b[36mc2\u001b[0m: \u001b[32mChar\u001b[0m = \u001b[32m'A'\u001b[0m\n",
       "\u001b[36ms\u001b[0m: \u001b[32mString\u001b[0m = \u001b[32m\"AA\"\u001b[0m\n",
       "\u001b[36mstr\u001b[0m: \u001b[32mString\u001b[0m = \u001b[32m\"hello\"\u001b[0m\n",
       "\u001b[36mstr2\u001b[0m: \u001b[32mString\u001b[0m = \u001b[32m\"\"\"\n",
       "\n",
       "this is long sentences;\n",
       "\n",
       "\"\"\"\u001b[0m"
      ]
     },
     "metadata": {},
     "output_type": "display_data"
    }
   ],
   "source": [
    "// char\n",
    "val c = 'A'\n",
    "val c2 = '\\u0041'\n",
    "val s = \"AA\"\n",
    "\n",
    "// string\n",
    "val str = \"hello\"\n",
    "val str2 = \"\"\"\n",
    "this is long sentences;\n",
    "\"\"\"\n",
    "println(str2)"
   ]
  },
  {
   "cell_type": "code",
   "execution_count": 8,
   "metadata": {
    "collapsed": false
   },
   "outputs": [
    {
     "data": {
      "text/plain": [
       "defined \u001b[32mclass \u001b[36mAdd\u001b[0m\n",
       "\u001b[32mimport \u001b[36mscala.reflect.runtime.universe._\u001b[0m\n",
       "\u001b[36mres4_2\u001b[0m: \u001b[32mSymbol\u001b[0m = method add\n",
       "\u001b[36mres4_3\u001b[0m: \u001b[32mscala\u001b[0m.\u001b[32mSymbol\u001b[0m = \u001b[32m'hi\u001b[0m"
      ]
     },
     "metadata": {},
     "output_type": "display_data"
    }
   ],
   "source": [
    "// symbol\n",
    "class Add{\n",
    "    def add(a:Int, b:Int) = a+b\n",
    "}\n",
    "import scala.reflect.runtime.universe._\n",
    "typeOf[Add].member(TermName(\"add\"))\n",
    "\n",
    "'hi"
   ]
  },
  {
   "cell_type": "code",
   "execution_count": null,
   "metadata": {
    "collapsed": true
   },
   "outputs": [],
   "source": []
  }
 ],
 "metadata": {
  "kernelspec": {
   "display_name": "Scala 2.11",
   "language": "scala211",
   "name": "scala211"
  },
  "language_info": {
   "codemirror_mode": "text/x-scala",
   "file_extension": "scala",
   "mimetype": "text/x-scala",
   "name": "scala211",
   "pygments_lexer": "scala",
   "version": "2.11.6"
  }
 },
 "nbformat": 4,
 "nbformat_minor": 0
}
