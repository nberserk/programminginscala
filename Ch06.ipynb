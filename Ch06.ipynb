{
 "cells": [
  {
   "cell_type": "markdown",
   "metadata": {},
   "source": [
    "## Rational class"
   ]
  },
  {
   "cell_type": "code",
   "execution_count": 19,
   "metadata": {
    "collapsed": false
   },
   "outputs": [
    {
     "name": "stdout",
     "output_type": "stream",
     "text": [
      "created 1/2\n",
      "created 40/4\n",
      "created 1/4\n",
      "created 1/8\n",
      "created 8/7\n",
      "created 3/4\n",
      "created 24/28\n"
     ]
    },
    {
     "data": {
      "text/plain": [
       "defined \u001b[32mclass \u001b[36mRational\u001b[0m\n",
       "\u001b[36mx\u001b[0m: \u001b[32m$user\u001b[0m.\u001b[32mRational\u001b[0m = 1/2\n",
       "\u001b[36mres15_2\u001b[0m: \u001b[32m$user\u001b[0m.\u001b[32mRational\u001b[0m = 10/1\n",
       "\u001b[36mres15_3\u001b[0m: \u001b[32m$user\u001b[0m.\u001b[32mRational\u001b[0m = 1/8\n",
       "\u001b[36ma\u001b[0m: \u001b[32m$user\u001b[0m.\u001b[32mRational\u001b[0m = 8/7\n",
       "\u001b[36mb\u001b[0m: \u001b[32m$user\u001b[0m.\u001b[32mRational\u001b[0m = 3/4\n",
       "\u001b[36mres15_6\u001b[0m: \u001b[32m$user\u001b[0m.\u001b[32mRational\u001b[0m = 6/7"
      ]
     },
     "metadata": {},
     "output_type": "display_data"
    }
   ],
   "source": [
    "class Rational(n:Int,d:Int){\n",
    "    println(s\"created $n/$d\")\n",
    "    \n",
    "    def this(n:Int) = this(n,1)\n",
    "    require(d!=0)\n",
    "    val g = gcd(n,d)\n",
    "    val num = n/g\n",
    "    val denum = d/g\n",
    "    \n",
    "    // override toString\n",
    "    override def toString = s\"$num/$denum\"\n",
    "    \n",
    "    def gcd(a:Int, b:Int) :Int = {\n",
    "        if(a==0) b\n",
    "        else gcd(b%a, a)\n",
    "    }\n",
    "    def * (o: Rational) = { new Rational(num*o.num, denum*o.denum)}\n",
    "}\n",
    "val x = new Rational(1,2)\n",
    "// test gcd\n",
    "// x.gcd(2,4)\n",
    "// x.gcd(4,2)\n",
    "// x.gcd(1001,8)\n",
    "//new Rational(5,0) // error\n",
    "\n",
    "new Rational(40,4)\n",
    "\n",
    "x*x*x\n",
    "\n",
    "val a = new Rational(8,7)\n",
    "val b = new Rational(3,4)\n",
    "a*b"
   ]
  },
  {
   "cell_type": "code",
   "execution_count": 20,
   "metadata": {
    "collapsed": false
   },
   "outputs": [
    {
     "name": "stdout",
     "output_type": "stream",
     "text": [
      "created 2/1\n",
      "created 16/7\n"
     ]
    },
    {
     "data": {
      "text/plain": [
       "defined \u001b[32mfunction \u001b[36mIntToRational\u001b[0m\n",
       "\u001b[36mres16_1\u001b[0m: \u001b[32mRational\u001b[0m = 16/7"
      ]
     },
     "metadata": {},
     "output_type": "display_data"
    }
   ],
   "source": [
    "// 2*a // error\n",
    "\n",
    "// implicit\n",
    "implicit def IntToRational(n:Int) = new Rational(n)\n",
    "\n",
    "a*2\n"
   ]
  },
  {
   "cell_type": "code",
   "execution_count": null,
   "metadata": {
    "collapsed": true
   },
   "outputs": [],
   "source": []
  }
 ],
 "metadata": {
  "kernelspec": {
   "display_name": "Scala 2.11",
   "language": "scala211",
   "name": "scala211"
  },
  "language_info": {
   "codemirror_mode": "text/x-scala",
   "file_extension": "scala",
   "mimetype": "text/x-scala",
   "name": "scala211",
   "pygments_lexer": "scala",
   "version": "2.11.6"
  }
 },
 "nbformat": 4,
 "nbformat_minor": 0
}
