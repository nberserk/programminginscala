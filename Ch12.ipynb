{
 "cells": [
  {
   "cell_type": "code",
   "execution_count": 2,
   "metadata": {
    "collapsed": false
   },
   "outputs": [
    {
     "name": "stdout",
     "output_type": "stream",
     "text": [
      "i consume memeory, therefor i am!\n",
      "i consume memeory, therefor i am!\n"
     ]
    },
    {
     "data": {
      "text/plain": [
       "defined \u001b[32mtrait \u001b[36mPhilosophical\u001b[0m\n",
       "defined \u001b[32mclass \u001b[36mFrog\u001b[0m\n",
       "\u001b[36mf\u001b[0m: \u001b[32m$user\u001b[0m.\u001b[32mFrog\u001b[0m = green\n",
       "\u001b[36mres0_3\u001b[0m: \u001b[32mString\u001b[0m = \u001b[32m\"green\"\u001b[0m\n",
       "\u001b[36mp\u001b[0m: \u001b[32m$user\u001b[0m.\u001b[32mPhilosophical\u001b[0m = green"
      ]
     },
     "metadata": {},
     "output_type": "display_data"
    }
   ],
   "source": [
    "// traits\n",
    "// extends of with \n",
    "// mixed in concept\n",
    "trait Philosophical{\n",
    "    def philosophize(){\n",
    "        println(\"i consume memeory, therefor i am!\")\n",
    "    }\n",
    "}\n",
    "\n",
    "class Frog extends Philosophical{\n",
    "    override def toString=\"green\"\n",
    "}\n",
    "\n",
    "val f = new Frog\n",
    "f.toString\n",
    "f.philosophize\n",
    "\n",
    "val p : Philosophical = f\n",
    "p.philosophize"
   ]
  },
  {
   "cell_type": "code",
   "execution_count": 6,
   "metadata": {
    "collapsed": false
   },
   "outputs": [
    {
     "name": "stdout",
     "output_type": "stream",
     "text": [
      "It ain't easy being green!\n"
     ]
    },
    {
     "data": {
      "text/plain": [
       "defined \u001b[32mclass \u001b[36mAnimal\u001b[0m\n",
       "defined \u001b[32mtrait \u001b[36mHasLegs\u001b[0m\n",
       "defined \u001b[32mclass \u001b[36mFrog\u001b[0m\n",
       "\u001b[36mphrog\u001b[0m: \u001b[32m$user\u001b[0m.\u001b[32mFrog\u001b[0m = green"
      ]
     },
     "metadata": {},
     "output_type": "display_data"
    }
   ],
   "source": [
    "class Animal\n",
    "trait HasLegs\n",
    "\n",
    "class Frog extends Animal with Philosophical with HasLegs{\n",
    "    override def toString = \"green\"\n",
    "    override def philosophize(){\n",
    "        println(\"It ain't easy being \" + toString + \"!\")\n",
    "    }\n",
    "}\n",
    "val phrog = new Frog\n",
    "phrog.philosophize"
   ]
  },
  {
   "cell_type": "code",
   "execution_count": 6,
   "metadata": {
    "collapsed": true
   },
   "outputs": [],
   "source": [
    "// trait limitation\n",
    "// 1. trait NoPoint(x:Int, y:Int)  // compile error\n",
    "// super call is dynamically bound"
   ]
  },
  {
   "cell_type": "code",
   "execution_count": 6,
   "metadata": {
    "collapsed": true
   },
   "outputs": [],
   "source": [
    "// thin vs rich interface. \n",
    "// java is thin\n",
    "// enrich interface using traits"
   ]
  },
  {
   "cell_type": "code",
   "execution_count": 7,
   "metadata": {
    "collapsed": false
   },
   "outputs": [
    {
     "data": {
      "text/plain": [
       "defined \u001b[32mclass \u001b[36mPoint\u001b[0m\n",
       "defined \u001b[32mclass \u001b[36mRectangle\u001b[0m\n",
       "defined \u001b[32mclass \u001b[36mComponent\u001b[0m"
      ]
     },
     "metadata": {},
     "output_type": "display_data"
    }
   ],
   "source": [
    "class Point(val x: Int, val y: Int)\n",
    "  \n",
    "  class Rectangle(val topLeft: Point, val bottomRight: Point) {\n",
    "    def left = topLeft.x\n",
    "    def right = bottomRight.x\n",
    "    def width = right - left\n",
    "    // and many more geometric methods...\n",
    "  }\n",
    "\n",
    "abstract class Component {\n",
    "    def topLeft: Point\n",
    "    def bottomRight: Point\n",
    "  \n",
    "    def left = topLeft.x\n",
    "    def right = bottomRight.x\n",
    "    def width = right - left\n",
    "    // and many more geometric methods...\n",
    "  }"
   ]
  },
  {
   "cell_type": "code",
   "execution_count": 55,
   "metadata": {
    "collapsed": false
   },
   "outputs": [
    {
     "data": {
      "text/plain": [
       "defined \u001b[32mtrait \u001b[36mRectangular\u001b[0m\n",
       "defined \u001b[32mclass \u001b[36mComponent\u001b[0m\n",
       "defined \u001b[32mclass \u001b[36mRectangle\u001b[0m\n",
       "\u001b[36mr\u001b[0m: \u001b[32m$user\u001b[0m.\u001b[32mRectangle\u001b[0m = cmd35$$user$Rectangle@3bd4e6ba\n",
       "\u001b[36mres35_4\u001b[0m: \u001b[32mInt\u001b[0m = \u001b[32m19\u001b[0m"
      ]
     },
     "metadata": {},
     "output_type": "display_data"
    }
   ],
   "source": [
    "// trait Rectangular\n",
    "trait Rectangular{\n",
    "    val topLeft:Point\n",
    "    def bottomRight:Point\n",
    "    def left = topLeft.x\n",
    "    def right = bottomRight.x\n",
    "    def width = right-left\n",
    "}\n",
    "abstract class Component extends Rectangular{\n",
    "    \n",
    "}\n",
    "\n",
    "class Rectangle(val topLeft:Point, val bottomRight:Point) extends Rectangular{\n",
    "    \n",
    "}\n",
    "val r = new Rectangle(new Point(1,1), new Point(20,20))\n",
    "r.width"
   ]
  },
  {
   "cell_type": "code",
   "execution_count": 24,
   "metadata": {
    "collapsed": false
   },
   "outputs": [
    {
     "data": {
      "text/plain": [
       "defined \u001b[32mclass \u001b[36mRational\u001b[0m\n",
       "defined \u001b[32mclass \u001b[36mRational2\u001b[0m\n",
       "\u001b[36mhalf\u001b[0m: \u001b[32m$user\u001b[0m.\u001b[32mRational2\u001b[0m = cmd15$$user$Rational2@7ba7b6c\n",
       "\u001b[36mthird\u001b[0m: \u001b[32m$user\u001b[0m.\u001b[32mRational2\u001b[0m = cmd15$$user$Rational2@d039953\n",
       "\u001b[36mres15_4\u001b[0m: \u001b[32mBoolean\u001b[0m = false\n",
       "\u001b[36mres15_5\u001b[0m: \u001b[32mBoolean\u001b[0m = true"
      ]
     },
     "metadata": {},
     "output_type": "display_data"
    }
   ],
   "source": [
    "class Rational(val numer: Int, val denom: Int) {\n",
    "    // ...\n",
    "    def < (that: Rational) = \n",
    "      this.numer * that.denom > that.numer * this.denom\n",
    "    def > (that: Rational) = that < this\n",
    "    def <= (that: Rational) = (this < that) || (this == that)\n",
    "    def >= (that: Rational) = (this > that) || (this == that)\n",
    "}\n",
    "\n",
    "class Rational2(val numer: Int, val denom: Int) extends Ordered[Rational2] {\n",
    "    def compare(that:Rational2) = (this.numer*that.denom) - (that.numer*this.denom)\n",
    "}\n",
    "\n",
    "val half = new Rational2(1,2)\n",
    "val third = new Rational2(1,3)\n",
    "half < third\n",
    "half > third"
   ]
  },
  {
   "cell_type": "code",
   "execution_count": 40,
   "metadata": {
    "collapsed": false
   },
   "outputs": [
    {
     "data": {
      "text/plain": [
       "defined \u001b[32mclass \u001b[36mIntQueue\u001b[0m\n",
       "\u001b[32mimport \u001b[36mscala.collection.mutable.ArrayBuffer\u001b[0m\n",
       "defined \u001b[32mclass \u001b[36mBasicIntQueue\u001b[0m\n",
       "\u001b[36mq\u001b[0m: \u001b[32m$user\u001b[0m.\u001b[32mBasicIntQueue\u001b[0m = cmd30$$user$BasicIntQueue@6e6d5100\n",
       "\u001b[36mres30_6\u001b[0m: \u001b[32mInt\u001b[0m = \u001b[32m10\u001b[0m\n",
       "\u001b[36mres30_7\u001b[0m: \u001b[32mInt\u001b[0m = \u001b[32m20\u001b[0m\n",
       "defined \u001b[32mtrait \u001b[36mDoubling\u001b[0m\n",
       "defined \u001b[32mclass \u001b[36mMyQueue\u001b[0m\n",
       "\u001b[36mmq\u001b[0m: \u001b[32m$user\u001b[0m.\u001b[32mMyQueue\u001b[0m = cmd30$$user$MyQueue@53ad0059\n",
       "\u001b[36mres30_12\u001b[0m: \u001b[32mInt\u001b[0m = \u001b[32m20\u001b[0m\n",
       "defined \u001b[32mtrait \u001b[36mIncrementing\u001b[0m\n",
       "defined \u001b[32mtrait \u001b[36mFiltering\u001b[0m\n",
       "\u001b[36mq3\u001b[0m: \u001b[32m$user\u001b[0m.\u001b[32mBasicIntQueue\u001b[0m with \u001b[32m$user\u001b[0m.\u001b[32mIncrementing\u001b[0m with \u001b[32m$user\u001b[0m.\u001b[32mFiltering\u001b[0m = cmd30$$user$$anonfun$24$$anon$1@1ea5ed13\n",
       "\u001b[36mres30_19\u001b[0m: \u001b[32mInt\u001b[0m = \u001b[32m1\u001b[0m\n",
       "\u001b[36mres30_20\u001b[0m: \u001b[32mInt\u001b[0m = \u001b[32m2\u001b[0m\n",
       "\u001b[36mq4\u001b[0m: \u001b[32m$user\u001b[0m.\u001b[32mBasicIntQueue\u001b[0m with \u001b[32m$user\u001b[0m.\u001b[32mFiltering\u001b[0m with \u001b[32m$user\u001b[0m.\u001b[32mIncrementing\u001b[0m = cmd30$$user$$anonfun$25$$anon$2@48b6bb3\n",
       "\u001b[36mres30_25\u001b[0m: \u001b[32mInt\u001b[0m = \u001b[32m0\u001b[0m\n",
       "\u001b[36mres30_26\u001b[0m: \u001b[32mInt\u001b[0m = \u001b[32m1\u001b[0m\n",
       "\u001b[36mres30_27\u001b[0m: \u001b[32mInt\u001b[0m = \u001b[32m2\u001b[0m"
      ]
     },
     "metadata": {},
     "output_type": "display_data"
    }
   ],
   "source": [
    "// stackable modifications\n",
    "abstract class IntQueue {\n",
    "      def get(): Int\n",
    "      def put(x: Int)   \n",
    "}\n",
    "import scala.collection.mutable.ArrayBuffer\n",
    "  \n",
    "class BasicIntQueue extends IntQueue {\n",
    "      private val buf = new ArrayBuffer[Int]\n",
    "      def get() = buf.remove(0)\n",
    "      def put(x: Int) { buf += x }    \n",
    "}\n",
    "\n",
    "val q = new BasicIntQueue\n",
    "q.put(10)\n",
    "q.put(20)\n",
    "q.get\n",
    "q.get\n",
    "\n",
    "trait Doubling extends IntQueue{\n",
    "    abstract override def put(x:Int) {super.put(2*x)}   // mix in with concrete put of IntQueu\n",
    "}\n",
    "\n",
    "class MyQueue extends BasicIntQueue with Doubling\n",
    "val mq = new MyQueue\n",
    "mq.put(10)\n",
    "mq.get\n",
    "\n",
    "trait Incrementing extends IntQueue{\n",
    "    abstract override def put(x:Int) {super.put(x+1)}\n",
    "}\n",
    "trait Filtering extends IntQueue{\n",
    "    abstract override def put(x:Int) = if (x>=0) super.put(x)\n",
    "}\n",
    "\n",
    "val q3 = new BasicIntQueue with Incrementing with Filtering // right trait take effect first\n",
    "q3.put(-1) \n",
    "q3.put(0)\n",
    "q3.put(1) \n",
    "q3.get()\n",
    "q3.get()\n",
    "//q3.get()\n",
    "\n",
    "val q4 = new BasicIntQueue with Filtering with Incrementing\n",
    "q4.put(-1) \n",
    "q4.put(0)\n",
    "q4.put(1)\n",
    "q4.get()\n",
    "q4.get()\n",
    "q4.get()"
   ]
  },
  {
   "cell_type": "code",
   "execution_count": 39,
   "metadata": {
    "collapsed": true
   },
   "outputs": [],
   "source": [
    "// why not multiple inheritance\n",
    "// Incrmenting도 사용하고 싶고 더블링도 사용하고 싶을땐 어떻게 해야 하나? 상속으로는 해결할 수 없다. Mix in의 개념\n",
    "\n",
    "// Linearization .. \n",
    "// super calls its first right in linearization"
   ]
  },
  {
   "cell_type": "code",
   "execution_count": 40,
   "metadata": {
    "collapsed": false
   },
   "outputs": [
    {
     "ename": "",
     "evalue": "",
     "output_type": "error",
     "traceback": [
      "SyntaxError: found \", unrelated classes \", expected End in",
      "reused in multiple, unrelated classes => make it trait",
      "                  ^"
     ]
    }
   ],
   "source": [
    "// to trait or not to trait\n",
    "\n",
    "reused in multiple, unrelated classes => make it trait\n",
    "inherit from java => abstract class\n",
    "distribute it in compiled from => use abstract class, trait need recompile\n",
    "efficiency => concrete class"
   ]
  },
  {
   "cell_type": "code",
   "execution_count": 41,
   "metadata": {
    "collapsed": false
   },
   "outputs": [
    {
     "ename": "",
     "evalue": "",
     "output_type": "error",
     "traceback": [
      "SyntaxError: found \"with A\", expected End in",
      "class B with A",
      "        ^"
     ]
    }
   ],
   "source": [
    "//trait A\n",
    "//class B with A"
   ]
  },
  {
   "cell_type": "code",
   "execution_count": null,
   "metadata": {
    "collapsed": true
   },
   "outputs": [],
   "source": []
  }
 ],
 "metadata": {
  "kernelspec": {
   "display_name": "Scala 2.11",
   "language": "scala211",
   "name": "scala211"
  },
  "language_info": {
   "codemirror_mode": "text/x-scala",
   "file_extension": "scala",
   "mimetype": "text/x-scala",
   "name": "scala211",
   "pygments_lexer": "scala",
   "version": "2.11.6"
  }
 },
 "nbformat": 4,
 "nbformat_minor": 0
}
