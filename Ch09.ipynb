{
 "cells": [
  {
   "cell_type": "markdown",
   "metadata": {},
   "source": [
    "# Control Abstraction"
   ]
  },
  {
   "cell_type": "markdown",
   "metadata": {},
   "source": [
    "## Reducing code duplication"
   ]
  },
  {
   "cell_type": "code",
   "execution_count": 10,
   "metadata": {
    "collapsed": false
   },
   "outputs": [
    {
     "data": {
      "text/plain": [
       "defined \u001b[32mobject \u001b[36mFileMatcher\u001b[0m\n",
       "\u001b[36mres6_1\u001b[0m: \u001b[32mArray\u001b[0m[\u001b[32mjava\u001b[0m.\u001b[32mio\u001b[0m.\u001b[32mFile\u001b[0m] = \u001b[33mArray\u001b[0m(./ch02.ipynb, ./Ch05.ipynb, ./Ch06.ipynb, ./Ch07.ipynb, ./Ch08.ipynb, ./Ch09.ipynb)\n",
       "\u001b[36mres6_2\u001b[0m: \u001b[32mArray\u001b[0m[\u001b[32mjava\u001b[0m.\u001b[32mio\u001b[0m.\u001b[32mFile\u001b[0m] = \u001b[33mArray\u001b[0m(./Ch05.ipynb, ./Ch06.ipynb, ./Ch07.ipynb, ./Ch08.ipynb, ./Ch09.ipynb)\n",
       "\u001b[36mres6_3\u001b[0m: \u001b[32mArray\u001b[0m[\u001b[32mjava\u001b[0m.\u001b[32mio\u001b[0m.\u001b[32mFile\u001b[0m] = \u001b[33mArray\u001b[0m(./Ch05.ipynb, ./Ch06.ipynb, ./Ch07.ipynb, ./Ch08.ipynb, ./Ch09.ipynb)"
      ]
     },
     "metadata": {},
     "output_type": "display_data"
    }
   ],
   "source": [
    "// higher-order function : functions that take functions as param\n",
    "object FileMatcher{\n",
    "    val files = (new java.io.File(\".\")).listFiles\n",
    "    def filesEnding(query:String) = {        \n",
    "        for (f<- files; if f.getName.endsWith(query))\n",
    "            yield f        \n",
    "    }\n",
    "\n",
    "    // new requirement \n",
    "    def filesContain(query:String) = {\n",
    "        for (f<- files; if f.getName.contains(query))\n",
    "            yield f\n",
    "    }\n",
    "\n",
    "    //enhanced 1\n",
    "    def filesMatching(query:String, matcher: (String,String)=>Boolean ) ={\n",
    "        for(f<-files; if matcher(query, f.getName))\n",
    "        yield f\n",
    "    }\n",
    "}\n",
    "\n",
    "FileMatcher.filesEnding(\"ipynb\")\n",
    "FileMatcher.filesContain(\"Ch\")\n",
    "// enhanced 1\n",
    "FileMatcher.filesMatching(\"C\", (a,b)=>{b.contains(a)})"
   ]
  },
  {
   "cell_type": "code",
   "execution_count": 16,
   "metadata": {
    "collapsed": false
   },
   "outputs": [
    {
     "data": {
      "text/plain": [
       "defined \u001b[32mobject \u001b[36mFileMatcher\u001b[0m\n",
       "\u001b[36mres11_1\u001b[0m: \u001b[32mArray\u001b[0m[\u001b[32mjava\u001b[0m.\u001b[32mio\u001b[0m.\u001b[32mFile\u001b[0m] = \u001b[33mArray\u001b[0m(./ch01.md, ./README.md)\n",
       "\u001b[36mres11_2\u001b[0m: \u001b[32mArray\u001b[0m[\u001b[32mjava\u001b[0m.\u001b[32mio\u001b[0m.\u001b[32mFile\u001b[0m] = \u001b[33mArray\u001b[0m(./ch01.md, ./ch02.ipynb, ./Ch05.ipynb, ./Ch06.ipynb, ./Ch07.ipynb, ./Ch08.ipynb, ./Ch09.ipynb)"
      ]
     },
     "metadata": {},
     "output_type": "display_data"
    }
   ],
   "source": [
    "object FileMatcher{\n",
    "    val files = (new java.io.File(\".\")).listFiles\n",
    "    def filesMatching(matcher:String=>Boolean)= {\n",
    "        for (f <- files; if matcher(f.getName))\n",
    "            yield f\n",
    "    }\n",
    "    \n",
    "                                            // (p:String) =>{p.endsWith(query)}\n",
    "    def filesEnding(query:String) = filesMatching(_.endsWith(query))\n",
    "    \n",
    "    def filesContain(query:String) = filesMatching(_.contains(query))\n",
    "}\n",
    "\n",
    "FileMatcher.filesEnding(\"d\")\n",
    "FileMatcher.filesContain(\"0\")"
   ]
  },
  {
   "cell_type": "markdown",
   "metadata": {},
   "source": [
    "## Simplying client code"
   ]
  },
  {
   "cell_type": "code",
   "execution_count": 31,
   "metadata": {
    "collapsed": false
   },
   "outputs": [
    {
     "data": {
      "text/plain": [
       "defined \u001b[32mfunction \u001b[36mcontainsNeg\u001b[0m\n",
       "defined \u001b[32mfunction \u001b[36mcontainsNeg2\u001b[0m\n",
       "\u001b[36ml\u001b[0m: \u001b[32mList\u001b[0m[\u001b[32mInt\u001b[0m] = \u001b[33mList\u001b[0m(\u001b[32m1\u001b[0m, \u001b[32m2\u001b[0m, \u001b[32m-3\u001b[0m, \u001b[32m4\u001b[0m)\n",
       "\u001b[36ml2\u001b[0m: \u001b[32mList\u001b[0m[\u001b[32mInt\u001b[0m] = \u001b[33mList\u001b[0m(\u001b[32m1\u001b[0m, \u001b[32m2\u001b[0m, \u001b[32m3\u001b[0m, \u001b[32m4\u001b[0m)\n",
       "\u001b[36mres18_4\u001b[0m: \u001b[32mBoolean\u001b[0m = true\n",
       "defined \u001b[32mfunction \u001b[36mcontainsOdd\u001b[0m\n",
       "\u001b[36mres18_6\u001b[0m: \u001b[32mBoolean\u001b[0m = true"
      ]
     },
     "metadata": {},
     "output_type": "display_data"
    }
   ],
   "source": [
    "def containsNeg(nums: List[Int]): Boolean = {\n",
    "    var exists = false\n",
    "    for (num <- nums)\n",
    "      if (num < 0)\n",
    "        exists = true\n",
    "    exists\n",
    "}\n",
    "\n",
    "def containsNeg2(nums: List[Int]) = nums.exists(_<0)\n",
    "\n",
    "val l = List(1,2,-3,4)\n",
    "val l2 = List(1,2,3,4)\n",
    "containsNeg2(l)\n",
    "\n",
    "def containsOdd(n:List[Int]) = n.exists(_%2==1)\n",
    "containsOdd(l2)"
   ]
  },
  {
   "cell_type": "markdown",
   "metadata": {},
   "source": [
    "## Currying"
   ]
  },
  {
   "cell_type": "code",
   "execution_count": 37,
   "metadata": {
    "collapsed": false
   },
   "outputs": [
    {
     "ename": "",
     "evalue": "",
     "output_type": "error",
     "traceback": [
      "Compilation Failed",
      "\u001b[31mMain.scala:136: missing arguments for method currySum in class $user;",
      "follow this method with `_' if you want to treat it as a partially applied function",
      "currySum(1) ",
      "        ^\u001b[0m"
     ]
    }
   ],
   "source": [
    "def plainSum(x:Int,y:Int) =x+y\n",
    "plainSum(1,3)\n",
    "\n",
    "def currySum(x:Int)(y:Int) = x+y\n",
    "currySum(1)(3)\n",
    "\n",
    "val second = currySum(1)"
   ]
  },
  {
   "cell_type": "code",
   "execution_count": null,
   "metadata": {
    "collapsed": true
   },
   "outputs": [],
   "source": []
  }
 ],
 "metadata": {
  "kernelspec": {
   "display_name": "Scala 2.11",
   "language": "scala211",
   "name": "scala211"
  },
  "language_info": {
   "codemirror_mode": "text/x-scala",
   "file_extension": "scala",
   "mimetype": "text/x-scala",
   "name": "scala211",
   "pygments_lexer": "scala",
   "version": "2.11.6"
  }
 },
 "nbformat": 4,
 "nbformat_minor": 0
}
