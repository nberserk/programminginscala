{
 "cells": [
  {
   "cell_type": "markdown",
   "metadata": {},
   "source": [
    "# Composition and inheritance"
   ]
  },
  {
   "cell_type": "markdown",
   "metadata": {},
   "source": [
    "## 2-dimentional layout lib\n",
    "```\n",
    "val col = elem(\"hello\") above elem(\"****\")\n",
    "val col2 = elem(\"***\") above elem(\"world\")\n",
    "col beside col2\n",
    "```\n",
    "## abstract classes"
   ]
  },
  {
   "cell_type": "code",
   "execution_count": 16,
   "metadata": {
    "collapsed": false
   },
   "outputs": [
    {
     "data": {
      "text/plain": [
       "defined \u001b[32mclass \u001b[36mElement\u001b[0m"
      ]
     },
     "metadata": {},
     "output_type": "display_data"
    }
   ],
   "source": [
    "\n",
    "abstract class Element{\n",
    "    def contents: Array[String]\n",
    "    \n",
    "    def height:Int = contents.length\n",
    "    def width:Int = if(height==0) 0 else contents(0).length\n",
    "}\n",
    "\n",
    "// new Element // error"
   ]
  },
  {
   "cell_type": "markdown",
   "metadata": {},
   "source": [
    "## parameterless method"
   ]
  },
  {
   "cell_type": "code",
   "execution_count": 8,
   "metadata": {
    "collapsed": false
   },
   "outputs": [
    {
     "data": {
      "text/plain": [
       "defined \u001b[32mclass \u001b[36mElement\u001b[0m\n",
       "\u001b[36mres4_1\u001b[0m: \u001b[32mString\u001b[0m = \u001b[32m\"[I@120ddaa0\"\u001b[0m\n",
       "\u001b[36mres4_2\u001b[0m: \u001b[32mString\u001b[0m = \u001b[32m\"[I@66b3036d\"\u001b[0m\n",
       "\u001b[36mres4_3\u001b[0m: \u001b[32mInt\u001b[0m = \u001b[32m3\u001b[0m\n",
       "\u001b[36mres4_4\u001b[0m: \u001b[32mInt\u001b[0m = \u001b[32m3\u001b[0m"
      ]
     },
     "metadata": {},
     "output_type": "display_data"
    }
   ],
   "source": [
    "abstract class Element2{\n",
    "    def contents: Array[String]    \n",
    "   \n",
    "    // parameterless method is recommended\n",
    "    val height:Int = contents.length\n",
    "    val width:Int = if(height==0) 0 else contents(0).length\n",
    "}\n",
    "\n",
    "Array(1,2,3).toString\n",
    "Array(1,2,3).toString()\n",
    "\"abc\".length\n",
    "\"abc\".length()\n",
    "\n",
    "// property : no () \n",
    "// invoke a function that has side effects : use ()"
   ]
  },
  {
   "cell_type": "markdown",
   "metadata": {},
   "source": [
    "## Extending classes"
   ]
  },
  {
   "cell_type": "code",
   "execution_count": 29,
   "metadata": {
    "collapsed": false
   },
   "outputs": [
    {
     "data": {
      "text/plain": [
       "defined \u001b[32mclass \u001b[36mArrayElement\u001b[0m\n",
       "\u001b[36mae\u001b[0m: \u001b[32m$user\u001b[0m.\u001b[32mArrayElement\u001b[0m = cmd17$$user$ArrayElement@65286662\n",
       "\u001b[36mres17_2\u001b[0m: \u001b[32mInt\u001b[0m = \u001b[32m5\u001b[0m\n",
       "\u001b[36mres17_3\u001b[0m: \u001b[32mInt\u001b[0m = \u001b[32m2\u001b[0m"
      ]
     },
     "metadata": {},
     "output_type": "display_data"
    }
   ],
   "source": [
    "class ArrayElement(conts: Array[String]) extends Element{\n",
    "    val contents: Array[String] = conts\n",
    "}\n",
    "// scala.AnyRef <--> java.lang.Objecgt\n",
    "\n",
    "val ae = new ArrayElement(Array(\"hello\", \"world\"))\n",
    "ae.width\n",
    "ae.height"
   ]
  },
  {
   "cell_type": "markdown",
   "metadata": {},
   "source": [
    "## Overriding methods and fields"
   ]
  },
  {
   "cell_type": "code",
   "execution_count": 14,
   "metadata": {
    "collapsed": false
   },
   "outputs": [
    {
     "ename": "",
     "evalue": "",
     "output_type": "error",
     "traceback": [
      "Compilation Failed",
      "\u001b[31mMain.scala:71: method f is defined twice",
      "  conflicting symbols both originated in file 'Main.scala'",
      "    def f=1",
      "        ^\u001b[0m"
     ]
    }
   ],
   "source": [
    "// Scala has just 2 namespaces; value, type\n",
    "// java has 4, field,method, type,package\n",
    "class WontCompile{\n",
    "    private var f=0\n",
    "    def f=1\n",
    "}"
   ]
  },
  {
   "cell_type": "markdown",
   "metadata": {},
   "source": [
    "## defining parametric fields"
   ]
  },
  {
   "cell_type": "code",
   "execution_count": 32,
   "metadata": {
    "collapsed": false
   },
   "outputs": [
    {
     "data": {
      "text/plain": [
       "defined \u001b[32mclass \u001b[36mArrayElement\u001b[0m\n",
       "\u001b[36mae\u001b[0m: \u001b[32m$user\u001b[0m.\u001b[32mArrayElement\u001b[0m = cmd18$$user$ArrayElement@6e5e4632\n",
       "\u001b[36mres18_2\u001b[0m: \u001b[32mArray\u001b[0m[\u001b[32mString\u001b[0m] = \u001b[33mArray\u001b[0m(\u001b[32m\"a\"\u001b[0m, \u001b[32m\"bc\"\u001b[0m)\n",
       "defined \u001b[32mclass \u001b[36mCat\u001b[0m\n",
       "defined \u001b[32mclass \u001b[36mTiger\u001b[0m"
      ]
     },
     "metadata": {},
     "output_type": "display_data"
    }
   ],
   "source": [
    "class ArrayElement( val contents: Array[String]) extends Element\n",
    "\n",
    "val ae = new ArrayElement(Array(\"a\", \"bc\"))\n",
    "ae.contents\n",
    "\n",
    "class Cat{\n",
    "    val dangerous=false\n",
    "}\n",
    "\n",
    "// override, private ...\n",
    "class Tiger( \n",
    "    override val dangerous : Boolean,\n",
    "    private var age: Int\n",
    ") extends Cat\n"
   ]
  },
  {
   "cell_type": "markdown",
   "metadata": {},
   "source": [
    "## Invoking superclass constructors"
   ]
  },
  {
   "cell_type": "code",
   "execution_count": 25,
   "metadata": {
    "collapsed": false
   },
   "outputs": [
    {
     "data": {
      "text/plain": [
       "defined \u001b[32mclass \u001b[36mLineElement\u001b[0m\n",
       "\u001b[36ml\u001b[0m: \u001b[32m$user\u001b[0m.\u001b[32mLineElement\u001b[0m = cmd16$$user$LineElement@4aaf2386\n",
       "\u001b[36mres16_2\u001b[0m: \u001b[32mInt\u001b[0m = \u001b[32m6\u001b[0m\n",
       "\u001b[36mres16_3\u001b[0m: \u001b[32mInt\u001b[0m = \u001b[32m1\u001b[0m"
      ]
     },
     "metadata": {},
     "output_type": "display_data"
    }
   ],
   "source": [
    "class LineElement(s:String) extends ArrayElement(Array(s)){\n",
    "    override def width = s.length\n",
    "    override def height = 1\n",
    "}\n",
    "\n",
    "val l =new LineElement(\"darren\")\n",
    "l.width\n",
    "l.height"
   ]
  },
  {
   "cell_type": "markdown",
   "metadata": {},
   "source": [
    "## Using override modifiers\n",
    "## Polymorphism and dynamic binding\n",
    "override def demo function\n",
    "\n",
    "## final method/class"
   ]
  },
  {
   "cell_type": "markdown",
   "metadata": {},
   "source": [
    "## above/beside/ toString"
   ]
  },
  {
   "cell_type": "code",
   "execution_count": 52,
   "metadata": {
    "collapsed": false
   },
   "outputs": [
    {
     "data": {
      "text/plain": [
       "defined \u001b[32mclass \u001b[36mArrayElement\u001b[0m\n",
       "defined \u001b[32mclass \u001b[36mElement\u001b[0m\n",
       "defined \u001b[32mobject \u001b[36mElement\u001b[0m\n",
       "\u001b[36ma\u001b[0m: \u001b[32m$user\u001b[0m.\u001b[32mArrayElement\u001b[0m = 1:\n",
       "hello\n",
       "\u001b[36mb\u001b[0m: \u001b[32m$user\u001b[0m.\u001b[32mArrayElement\u001b[0m = 2:\n",
       "world\n",
       "\u001b[36mres31_5\u001b[0m: \u001b[32m$user\u001b[0m.\u001b[32mElement\u001b[0m = 1:\n",
       "hello\n",
       "2:\n",
       "world\n",
       "\u001b[36mres31_6\u001b[0m: \u001b[32m$user\u001b[0m.\u001b[32mElement\u001b[0m = 1:2:\n",
       "helloworld"
      ]
     },
     "metadata": {},
     "output_type": "display_data"
    }
   ],
   "source": [
    "class ArrayElement(val contents:Array[String]) extends Element\n",
    "// class UniformElement(\n",
    "//     ch: Char, \n",
    "//     override val width: Int,\n",
    "//     override val height: Int \n",
    "//   ) extends Element {\n",
    "//     private val line = ch.toString * width\n",
    "//     def contents = Array.make(height, line)\n",
    "// }\n",
    "\n",
    "abstract class Element{\n",
    "    def contents: Array[String]\n",
    "    \n",
    "    def height:Int = contents.length\n",
    "    def width:Int = if(height==0) 0 else contents(0).length\n",
    "    \n",
    "    def above(that:Element) : Element = new ArrayElement(this.contents ++ that.contents)\n",
    "    \n",
    "    def besideImperative(that:Element) : Element = {\n",
    "        val c = new Array[String](this.contents.length)\n",
    "        for (i<- 0 until this.contents.length)\n",
    "            c(i) = this.contents(i) + that.contents(i)\n",
    "        new ArrayElement(c)\n",
    "    }\n",
    "    \n",
    "    def beside(that:Element) : Element = {\n",
    "        new ArrayElement(\n",
    "            for ( (l,l2) <- this.contents zip that.contents )\n",
    "                yield l + l2            \n",
    "        )\n",
    "    }\n",
    "    \n",
    "    def widen(w:Int) = {\n",
    "        if(w<=width) this\n",
    "        else{\n",
    "            \n",
    "        }\n",
    "    }\n",
    "\n",
    "    override def toString = contents mkString \"\\n\"\n",
    "}\n",
    "\n",
    "object Element{\n",
    "    def elem(contents:Array[String]) : Element = {\n",
    "        new ArrayElement(contents)\n",
    "    }\n",
    "    \n",
    "//     def elem(c:Char, width:Int, height:Int) = {\n",
    "//         new UniformElement(c, width, height)\n",
    "//     }\n",
    "    def elem(line:String) = new LineElement(line)\n",
    "}\n",
    "\n",
    "val a = new ArrayElement(Array(\"1:\",\"hello\" ))\n",
    "val b = new ArrayElement(Array(\"2:\", \"world\"))\n",
    "a above b\n",
    "a beside b\n"
   ]
  },
  {
   "cell_type": "code",
   "execution_count": 37,
   "metadata": {
    "collapsed": false
   },
   "outputs": [
    {
     "data": {
      "text/plain": [
       "\u001b[36mres21\u001b[0m: \u001b[32mArray\u001b[0m[(\u001b[32mInt\u001b[0m, \u001b[32mString\u001b[0m)] = \u001b[33mArray\u001b[0m(\u001b[33m\u001b[0m(\u001b[32m1\u001b[0m, \u001b[32m\"a\"\u001b[0m), \u001b[33m\u001b[0m(\u001b[32m2\u001b[0m, \u001b[32m\"b\"\u001b[0m))"
      ]
     },
     "metadata": {},
     "output_type": "display_data"
    }
   ],
   "source": [
    "Array(1,2,3) zip Array(\"a\", \"b\")"
   ]
  },
  {
   "cell_type": "code",
   "execution_count": null,
   "metadata": {
    "collapsed": true
   },
   "outputs": [],
   "source": []
  },
  {
   "cell_type": "code",
   "execution_count": null,
   "metadata": {
    "collapsed": true
   },
   "outputs": [],
   "source": []
  }
 ],
 "metadata": {
  "kernelspec": {
   "display_name": "Scala 2.11",
   "language": "scala211",
   "name": "scala211"
  },
  "language_info": {
   "codemirror_mode": "text/x-scala",
   "file_extension": "scala",
   "mimetype": "text/x-scala",
   "name": "scala211",
   "pygments_lexer": "scala",
   "version": "2.11.6"
  }
 },
 "nbformat": 4,
 "nbformat_minor": 0
}
