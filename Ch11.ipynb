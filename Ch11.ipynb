{
 "cells": [
  {
   "cell_type": "code",
   "execution_count": 1,
   "metadata": {
    "collapsed": false
   },
   "outputs": [
    {
     "data": {
      "text/plain": [
       "\u001b[36mres0\u001b[0m: \u001b[32mInt\u001b[0m = \u001b[32m43\u001b[0m"
      ]
     },
     "metadata": {},
     "output_type": "display_data"
    }
   ],
   "source": [
    "// Any\n",
    "// AnyVal : Short, Char, Long, Float, Boolean, Unit, Int\n",
    "        // new Int : error, coz Int is abstract class\n",
    "\n",
    "42 max 43    // \n",
    "// AnyRef \n",
    "    // any class , Object in java"
   ]
  },
  {
   "cell_type": "code",
   "execution_count": 3,
   "metadata": {
    "collapsed": false
   },
   "outputs": [
    {
     "data": {
      "text/plain": [
       "defined \u001b[32mfunction \u001b[36misEqual\u001b[0m\n",
       "defined \u001b[32mfunction \u001b[36misEqual2\u001b[0m\n",
       "\u001b[36mres2_2\u001b[0m: \u001b[32mBoolean\u001b[0m = true\n",
       "\u001b[36mres2_3\u001b[0m: \u001b[32mBoolean\u001b[0m = true\n",
       "\u001b[36mx\u001b[0m: \u001b[32mString\u001b[0m = \u001b[32m\"abc\"\u001b[0m\n",
       "\u001b[36my\u001b[0m: \u001b[32mString\u001b[0m = \u001b[32m\"abc\"\u001b[0m\n",
       "\u001b[36mres2_6\u001b[0m: \u001b[32mBoolean\u001b[0m = true\n",
       "\u001b[36mres2_7\u001b[0m: \u001b[32mBoolean\u001b[0m = false\n",
       "\u001b[36mres2_8\u001b[0m: \u001b[32mBoolean\u001b[0m = true"
      ]
     },
     "metadata": {},
     "output_type": "display_data"
    }
   ],
   "source": [
    "// boolean isEqual(Integer x, Integer y) {\n",
    "//     return x == y;\n",
    "//   }\n",
    "// System.out.println(isEqual(421, 421)); // false in java, because they compare Integer.equals(Integer) , reference equality\n",
    "\n",
    "def isEqual(x:Int,y:Int) = x == y\n",
    "def isEqual2(x:Any,y:Any) = x == y\n",
    "\n",
    "isEqual(421,421)\n",
    "isEqual2(111,111)\n",
    "\n",
    "// eq in AnyRef\n",
    "val x= new String(\"abc\")\n",
    "val y=new String(\"abc\")\n",
    "x==y\n",
    "x eq y // reference equality\n",
    "x ne y"
   ]
  },
  {
   "cell_type": "code",
   "execution_count": 4,
   "metadata": {
    "collapsed": false
   },
   "outputs": [
    {
     "ename": "",
     "evalue": "",
     "output_type": "error",
     "traceback": [
      "java.lang.RuntimeException: can't divide by zero"
     ]
    }
   ],
   "source": [
    "// null : not compatible with value types\n",
    "// Nothing : subtype of every other type\n",
    "def error(m:String) : Nothing = throw new RuntimeException(m)\n",
    "\n",
    "def divide(x:Int, y:Int): Int = if (y!=0)x/y else error(\"can't divide by zero\")\n",
    "divide(6,0)\n"
   ]
  },
  {
   "cell_type": "code",
   "execution_count": null,
   "metadata": {
    "collapsed": true
   },
   "outputs": [],
   "source": []
  }
 ],
 "metadata": {
  "kernelspec": {
   "display_name": "Scala 2.11",
   "language": "scala211",
   "name": "scala211"
  },
  "language_info": {
   "codemirror_mode": "text/x-scala",
   "file_extension": "scala",
   "mimetype": "text/x-scala",
   "name": "scala211",
   "pygments_lexer": "scala",
   "version": "2.11.6"
  }
 },
 "nbformat": 4,
 "nbformat_minor": 0
}
