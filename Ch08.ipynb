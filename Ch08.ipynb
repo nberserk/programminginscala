{
 "cells": [
  {
   "cell_type": "code",
   "execution_count": 5,
   "metadata": {
    "collapsed": false
   },
   "outputs": [
    {
     "name": "stdout",
     "output_type": "stream",
     "text": [
      "Ch07.ipynb:\"\\u001b[36mfilename\\u001b[0m: \\u001b[32mString\\u001b[0m = \\u001b[32m\\\"oops\\\"\\u001b[0m\\n\",\n",
      "Ch07.ipynb:\"\\u001b[36msum\\u001b[0m: \\u001b[32mInt\\u001b[0m = \\u001b[32m55\\u001b[0m\\n\",\n",
      "Ch07.ipynb:\"\\u001b[36mres2_5\\u001b[0m: \\u001b[32mInt\\u001b[0m = \\u001b[32m55\\u001b[0m\"\n",
      "Ch07.ipynb:\"\\u001b[36mres3_3\\u001b[0m: \\u001b[32mInt\\u001b[0m = \\u001b[32m2\\u001b[0m\\n\",\n",
      "Ch07.ipynb:\"\\u001b[36mres3_4\\u001b[0m: \\u001b[32mInt\\u001b[0m = \\u001b[32m2\\u001b[0m\\n\",\n",
      "Ch07.ipynb:\"\\u001b[36mres3_5\\u001b[0m: \\u001b[32mInt\\u001b[0m = \\u001b[32m2\\u001b[0m\"\n",
      "Ch07.ipynb:\"\\u001b[36mfiles\\u001b[0m: \\u001b[32mArray\\u001b[0m[\\u001b[32mjava\\u001b[0m.\\u001b[32mio\\u001b[0m.\\u001b[32mFile\\u001b[0m] = \\u001b[33mArray\\u001b[0m(\\n\",\n",
      "Ch07.ipynb:\"\\u001b[36mhalf\\u001b[0m: \\u001b[32mInt\\u001b[0m = \\u001b[32m1\\u001b[0m\\n\",\n",
      "Ch07.ipynb:\"val half = if (n%2==0) n/2 else throw new RuntimeException(\\\"n must be even\\\")\\n\",\n",
      "Ch07.ipynb:\"\\u001b[36mres30_3\\u001b[0m: \\u001b[32mURL\\u001b[0m = http://naver.com\\n\",\n",
      "Ch07.ipynb:\"\\u001b[36mres30_4\\u001b[0m: \\u001b[32mURL\\u001b[0m = http://scala.com\\n\",\n",
      "Ch07.ipynb:\"\\u001b[36mres30_7\\u001b[0m: \\u001b[32mInt\\u001b[0m = \\u001b[32m2\\u001b[0m\\n\",\n",
      "Ch07.ipynb:\"\\u001b[36mres30_8\\u001b[0m: \\u001b[32mInt\\u001b[0m = \\u001b[32m1\\u001b[0m\"\n",
      "Ch07.ipynb:\"\\u001b[36margs\\u001b[0m: \\u001b[32mArray\\u001b[0m[\\u001b[32mInt\\u001b[0m] = \\u001b[33mArray\\u001b[0m(\\u001b[32m3\\u001b[0m, \\u001b[32m4\\u001b[0m, \\u001b[32m5\\u001b[0m, \\u001b[32m6\\u001b[0m)\\n\",\n",
      "Ch07.ipynb:\"\\u001b[36mres38_1\\u001b[0m: \\u001b[32mInt\\u001b[0m = \\u001b[32m3\\u001b[0m\\n\",\n"
     ]
    },
    {
     "data": {
      "text/plain": [
       "\u001b[32mimport \u001b[36mscala.io.Source\u001b[0m\n",
       "defined \u001b[32mobject \u001b[36mLongLines\u001b[0m"
      ]
     },
     "metadata": {},
     "output_type": "display_data"
    }
   ],
   "source": [
    "import scala.io.Source\n",
    "object LongLines{\n",
    "    def processFile(filename:String, width:Int){\n",
    "        val s = Source.fromFile(filename)\n",
    "        for(line <- s.getLines)\n",
    "            processLine(filename, width, line)\n",
    "    }\n",
    "    \n",
    "    def processLine(fn:String, width:Int, line:String){\n",
    "        if(line.length > width) println(fn+\":\"+line.trim)\n",
    "            \n",
    "    }\n",
    "}\n",
    "\n",
    "LongLines.processFile(\"Ch07.ipynb\", 80)"
   ]
  },
  {
   "cell_type": "code",
   "execution_count": 6,
   "metadata": {
    "collapsed": false
   },
   "outputs": [
    {
     "name": "stdout",
     "output_type": "stream",
     "text": [
      "Ch06.ipynb:\"\\u001b[36mx\\u001b[0m: \\u001b[32m$user\\u001b[0m.\\u001b[32mRational\\u001b[0m = 1/2\\n\",\n",
      "Ch06.ipynb:\"\\u001b[36mres10_2\\u001b[0m: \\u001b[32m$user\\u001b[0m.\\u001b[32mRational\\u001b[0m = 10/1\\n\",\n",
      "Ch06.ipynb:\"\\u001b[36mres10_3\\u001b[0m: \\u001b[32m$user\\u001b[0m.\\u001b[32mRational\\u001b[0m = 1/8\\n\","
     ]
    },
    {
     "data": {
      "text/plain": [
       "defined \u001b[32mfunction \u001b[36mprocessFile\u001b[0m"
      ]
     },
     "metadata": {},
     "output_type": "display_data"
    },
    {
     "name": "stdout",
     "output_type": "stream",
     "text": [
      "\n",
      "Ch06.ipynb:\"\\u001b[36ma\\u001b[0m: \\u001b[32m$user\\u001b[0m.\\u001b[32mRational\\u001b[0m = 8/7\\n\",\n",
      "Ch06.ipynb:\"\\u001b[36mb\\u001b[0m: \\u001b[32m$user\\u001b[0m.\\u001b[32mRational\\u001b[0m = 3/4\\n\",\n",
      "Ch06.ipynb:\"\\u001b[36mres10_6\\u001b[0m: \\u001b[32m$user\\u001b[0m.\\u001b[32mRational\\u001b[0m = 6/7\"\n",
      "Ch06.ipynb:\"    def * (o: Rational) = { new Rational(num*o.num, denum*o.denum)}\\n\",\n"
     ]
    }
   ],
   "source": [
    "// Local Functions\n",
    "\n",
    "def processFile(fn:String, width: Int){\n",
    "    def processLine(fn:String, width: Int, line:String){ // Local function\n",
    "        if(line.length > width) println(fn+\":\"+line.trim)\n",
    "    }\n",
    "    val source = Source.fromFile(fn)\n",
    "    for(line <- source.getLines){\n",
    "        processLine(fn, width, line)\n",
    "    }\n",
    "}\n",
    "\n",
    "processFile(\"Ch06.ipynb\", 70)\n"
   ]
  },
  {
   "cell_type": "code",
   "execution_count": 13,
   "metadata": {
    "collapsed": false
   },
   "outputs": [
    {
     "name": "stdout",
     "output_type": "stream",
     "text": [
      "we\n",
      "here\n",
      "-11\n",
      "-10\n",
      "-5\n",
      "0\n",
      "5\n",
      "10\n"
     ]
    },
    {
     "data": {
      "text/plain": [
       "\u001b[36mincrease\u001b[0m: \u001b[32mInt\u001b[0m => \u001b[32mInt\u001b[0m = <function1>\n",
       "\u001b[36mres12_1\u001b[0m: \u001b[32mInt\u001b[0m = \u001b[32m2\u001b[0m\n",
       "\u001b[36mres12_3\u001b[0m: \u001b[32mInt\u001b[0m = \u001b[32m101\u001b[0m\n",
       "\u001b[36msomeNumbers\u001b[0m: \u001b[32mList\u001b[0m[\u001b[32mInt\u001b[0m] = \u001b[33mList\u001b[0m(\u001b[32m-11\u001b[0m, \u001b[32m-10\u001b[0m, \u001b[32m-5\u001b[0m, \u001b[32m0\u001b[0m, \u001b[32m5\u001b[0m, \u001b[32m10\u001b[0m)\n",
       "\u001b[36mres12_6\u001b[0m: \u001b[32mList\u001b[0m[\u001b[32mInt\u001b[0m] = \u001b[33mList\u001b[0m(\u001b[32m5\u001b[0m, \u001b[32m10\u001b[0m)"
      ]
     },
     "metadata": {},
     "output_type": "display_data"
    }
   ],
   "source": [
    "// first class function\n",
    "\n",
    "var increase = (x:Int) => x+1\n",
    "increase(1)\n",
    "\n",
    "increase = (x:Int) => {\n",
    "    println(\"we\")\n",
    "    println(\"here\")\n",
    "    x+1\n",
    "}\n",
    "increase(100)\n",
    "\n",
    "val someNumbers = List(-11, -10, -5, 0, 5, 10)\n",
    "someNumbers.foreach((x:Int) => println(x))\n",
    "someNumbers.filter(_ >0)\n",
    "//someNumbers.foreach(println(_))"
   ]
  },
  {
   "cell_type": "code",
   "execution_count": 45,
   "metadata": {
    "collapsed": false
   },
   "outputs": [
    {
     "data": {
      "text/plain": [
       "\u001b[36mres36_0\u001b[0m: \u001b[32mList\u001b[0m[\u001b[32mInt\u001b[0m] = \u001b[33mList\u001b[0m(\u001b[32m-11\u001b[0m, \u001b[32m-10\u001b[0m, \u001b[32m-5\u001b[0m)\n",
       "\u001b[36mres36_1\u001b[0m: \u001b[32mList\u001b[0m[\u001b[32mInt\u001b[0m] = \u001b[33mList\u001b[0m(\u001b[32m-11\u001b[0m, \u001b[32m-10\u001b[0m, \u001b[32m-5\u001b[0m)\n",
       "\u001b[36mres36_2\u001b[0m: \u001b[32mList\u001b[0m[\u001b[32mInt\u001b[0m] = \u001b[33mList\u001b[0m(\u001b[32m-11\u001b[0m, \u001b[32m-10\u001b[0m, \u001b[32m-5\u001b[0m)\n",
       "\u001b[36mf\u001b[0m: (\u001b[32mInt\u001b[0m, \u001b[32mInt\u001b[0m) => \u001b[32mInt\u001b[0m = <function2>\n",
       "\u001b[36mres36_4\u001b[0m: \u001b[32mInt\u001b[0m = \u001b[32m3\u001b[0m"
      ]
     },
     "metadata": {},
     "output_type": "display_data"
    }
   ],
   "source": [
    "// short forms of function literals\n",
    "someNumbers.filter( (x) => x<0 )\n",
    "someNumbers.filter( x => x<0 )\n",
    "\n",
    "// placeholder syntax\n",
    "someNumbers.filter( _<0 )\n",
    "// val g = _ + _  // error\n",
    "val f = (_:Int) + (_:Int)\n",
    "f(1,2)"
   ]
  },
  {
   "cell_type": "code",
   "execution_count": 26,
   "metadata": {
    "collapsed": false
   },
   "outputs": [
    {
     "name": "stdout",
     "output_type": "stream",
     "text": [
      "-11\n",
      "-10\n",
      "-5\n",
      "0\n",
      "5\n",
      "10\n"
     ]
    },
    {
     "data": {
      "text/plain": [
       "defined \u001b[32mfunction \u001b[36msum\u001b[0m\n",
       "\u001b[36msum2\u001b[0m: (\u001b[32mInt\u001b[0m, \u001b[32mInt\u001b[0m, \u001b[32mInt\u001b[0m) => \u001b[32mInt\u001b[0m = <function3>\n",
       "\u001b[36mres23_3\u001b[0m: \u001b[32mInt\u001b[0m = \u001b[32m9\u001b[0m\n",
       "\u001b[36mb\u001b[0m: \u001b[32mInt\u001b[0m => \u001b[32mInt\u001b[0m = <function1>\n",
       "\u001b[36mres23_5\u001b[0m: \u001b[32mInt\u001b[0m = \u001b[32m5\u001b[0m"
      ]
     },
     "metadata": {},
     "output_type": "display_data"
    }
   ],
   "source": [
    "// pratially applied function\n",
    "\n",
    "someNumbers.foreach( println _)\n",
    "\n",
    "def sum(a:Int, b:Int, c:Int) = a+b+c\n",
    "\n",
    "val sum2 = sum _\n",
    "sum2(2,3,4)\n",
    "\n",
    "val b = sum(1,_:Int, 3)\n",
    "b(1)\n"
   ]
  },
  {
   "cell_type": "code",
   "execution_count": 33,
   "metadata": {
    "collapsed": false
   },
   "outputs": [
    {
     "data": {
      "text/plain": [
       "\u001b[36mmore\u001b[0m: \u001b[32mInt\u001b[0m = \u001b[32m11\u001b[0m\n",
       "\u001b[36maddMore\u001b[0m: \u001b[32mInt\u001b[0m => \u001b[32mInt\u001b[0m = <function1>\n",
       "\u001b[36mres28_2\u001b[0m: \u001b[32mInt\u001b[0m = \u001b[32m11\u001b[0m\n",
       "\u001b[36mres28_4\u001b[0m: \u001b[32mInt\u001b[0m = \u001b[32m21\u001b[0m\n",
       "\u001b[36msum\u001b[0m: \u001b[32mInt\u001b[0m = \u001b[32m-11\u001b[0m\n",
       "\u001b[36mres28_7\u001b[0m: \u001b[32mInt\u001b[0m = \u001b[32m-11\u001b[0m\n",
       "defined \u001b[32mfunction \u001b[36mmakeIncreaser\u001b[0m\n",
       "\u001b[36minc1\u001b[0m: \u001b[32mInt\u001b[0m => \u001b[32mInt\u001b[0m = <function1>\n",
       "\u001b[36minc100\u001b[0m: \u001b[32mInt\u001b[0m => \u001b[32mInt\u001b[0m = <function1>\n",
       "\u001b[36mres28_11\u001b[0m: \u001b[32mInt\u001b[0m = \u001b[32m11\u001b[0m\n",
       "\u001b[36mres28_12\u001b[0m: \u001b[32mInt\u001b[0m = \u001b[32m110\u001b[0m"
      ]
     },
     "metadata": {},
     "output_type": "display_data"
    }
   ],
   "source": [
    "// closures\n",
    "\n",
    "// read free var\n",
    "var more=1\n",
    "val addMore= x:Int => x+more\n",
    "addMore(10)\n",
    "more=11\n",
    "addMore(10)\n",
    "\n",
    "// update free var\n",
    "var sum=0\n",
    "someNumbers.foreach(sum += _)\n",
    "sum\n",
    "\n",
    "def makeIncreaser(more:Int) = (x:Int) => x+more\n",
    "\n",
    "var inc1 = makeIncreaser(1)\n",
    "var inc100 = makeIncreaser(100)\n",
    "inc1(10)\n",
    "inc100(10)"
   ]
  },
  {
   "cell_type": "code",
   "execution_count": 38,
   "metadata": {
    "collapsed": false
   },
   "outputs": [
    {
     "name": "stdout",
     "output_type": "stream",
     "text": [
      "hello\n",
      "a\n",
      "b\n",
      "c\n",
      "d\n"
     ]
    },
    {
     "data": {
      "text/plain": [
       "defined \u001b[32mfunction \u001b[36mecho\u001b[0m\n",
       "\u001b[36marr\u001b[0m: \u001b[32mArray\u001b[0m[\u001b[32mString\u001b[0m] = \u001b[33mArray\u001b[0m(\u001b[32m\"c\"\u001b[0m, \u001b[32m\"d\"\u001b[0m)"
      ]
     },
     "metadata": {},
     "output_type": "display_data"
    }
   ],
   "source": [
    "// repeated parameter\n",
    "def echo(args: String*) = for(a<-args) println(a)\n",
    "echo()\n",
    "echo(\"hello\")\n",
    "echo(\"a\", \"b\")\n",
    "\n",
    "val arr = Array(\"c\", \"d\")\n",
    "echo(arr: _*)"
   ]
  },
  {
   "cell_type": "code",
   "execution_count": 39,
   "metadata": {
    "collapsed": false
   },
   "outputs": [],
   "source": [
    "// tail recursion\n",
    "\n",
    "// performance functional vs imperative almost same in tail recrusion \n",
    "// def approximate(guess:Double) :Double = {\n",
    "//     if  (isGoodEnough(guess)) guess\n",
    "//     else approximate(improve(guess))\n",
    "// }\n",
    "\n"
   ]
  },
  {
   "cell_type": "code",
   "execution_count": 44,
   "metadata": {
    "collapsed": false
   },
   "outputs": [
    {
     "ename": "",
     "evalue": "",
     "output_type": "error",
     "traceback": [
      "java.lang.Exception: boom!"
     ]
    }
   ],
   "source": [
    "def boom(x:Int):Int = \n",
    "if(x==0) throw new Exception(\"boom!\")\n",
    "else boom(x-1) +1\n",
    "\n",
    "boom(3)\n",
    "\n",
    "def bang(x: Int): Int = \n",
    "    if (x == 0) throw new Exception(\"bang!\")\n",
    "    else bang(x - 1)\n",
    "\n",
    "bang(3)\n",
    "\n",
    "// no optimization for tail recursion: funnction value, indirect recursion"
   ]
  },
  {
   "cell_type": "code",
   "execution_count": null,
   "metadata": {
    "collapsed": true
   },
   "outputs": [],
   "source": []
  }
 ],
 "metadata": {
  "kernelspec": {
   "display_name": "Scala 2.11",
   "language": "scala211",
   "name": "scala211"
  },
  "language_info": {
   "codemirror_mode": "text/x-scala",
   "file_extension": "scala",
   "mimetype": "text/x-scala",
   "name": "scala211",
   "pygments_lexer": "scala",
   "version": "2.11.6"
  }
 },
 "nbformat": 4,
 "nbformat_minor": 0
}
